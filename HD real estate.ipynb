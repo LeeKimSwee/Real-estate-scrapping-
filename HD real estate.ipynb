{
 "cells": [
  {
   "cell_type": "markdown",
   "metadata": {},
   "source": [
    "Real estate analysis of Heidelberg region\n",
    "Goals:\n",
    "A) get info on objects price and features\n",
    "B) make regression analysis\n"
   ]
  },
  {
   "cell_type": "markdown",
   "metadata": {},
   "source": [
    "Get results from immowelt.de \n",
    "Settings: Heidelberg, 20 km radius"
   ]
  },
  {
   "cell_type": "code",
   "execution_count": 1,
   "metadata": {},
   "outputs": [
    {
     "data": {
      "text/plain": [
       "'/Users/kim/Documents/Python/Real Estate Analysis HD'"
      ]
     },
     "execution_count": 1,
     "metadata": {},
     "output_type": "execute_result"
    }
   ],
   "source": [
    "import os\n",
    "os.chdir('/Users/kim/Documents/Python/Real Estate Analysis HD')\n",
    "os.getcwd()"
   ]
  },
  {
   "cell_type": "code",
   "execution_count": 2,
   "metadata": {},
   "outputs": [],
   "source": [
    "import re\n",
    "import urllib.parse\n",
    "import urllib.request\n",
    "import pandas as pd\n",
    "import numpy as np"
   ]
  },
  {
   "cell_type": "markdown",
   "metadata": {},
   "source": [
    "Get all ID for a search going through next pages\n",
    "Note: on immoscout webpage, next pages are \"P-n\" after \"S_T/\"\n",
    "First page has nothing but not \"P-1\"\n",
    "Use regex to localize ID number"
   ]
  },
  {
   "cell_type": "code",
   "execution_count": 3,
   "metadata": {},
   "outputs": [
    {
     "data": {
      "text/plain": [
       "841"
      ]
     },
     "execution_count": 3,
     "metadata": {},
     "output_type": "execute_result"
    }
   ],
   "source": [
    "A = 'https://www.immobilienscout24.de/Suche/S-T/'\n",
    "B = 'Haus-Kauf/Umkreissuche/Heidelberg/-/-94094/2166498/-/1276001014/20?enteredFrom=one_step_search#/cockpit'\n",
    "\n",
    "x = range(1,50)\n",
    "IDs = [] # get objects IDs\n",
    "for y in x:        \n",
    "    if y == 1:\n",
    "        url = A+B\n",
    "    else:\n",
    "        url = A+'P-'+str(y)+'/'+B\n",
    "        page = urllib.request.urlopen(url).read()\n",
    "        text = page.decode('utf-8')\n",
    "        ID = re.findall(r'data-go-to-expose-id=\"(.*)\"\\sdata', text)\n",
    "        IDs.extend(ID)\n",
    "# use set to get unique IDs (appears several times)\n",
    "IDs = set(IDs)\n",
    "len(IDs)"
   ]
  },
  {
   "cell_type": "code",
   "execution_count": 4,
   "metadata": {},
   "outputs": [
    {
     "ename": "UnicodeEncodeError",
     "evalue": "'ascii' codec can't encode character '\\xdf' in position 1808: ordinal not in range(128)",
     "output_type": "error",
     "traceback": [
      "\u001b[0;31m---------------------------------------------------------------------------\u001b[0m",
      "\u001b[0;31mUnicodeEncodeError\u001b[0m                        Traceback (most recent call last)",
      "\u001b[0;32m<ipython-input-4-5e2a7b9067ff>\u001b[0m in \u001b[0;36m<module>\u001b[0;34m()\u001b[0m\n\u001b[1;32m      4\u001b[0m \u001b[0;32mfor\u001b[0m \u001b[0mi\u001b[0m \u001b[0;32min\u001b[0m \u001b[0mIDs\u001b[0m\u001b[0;34m:\u001b[0m\u001b[0;34m\u001b[0m\u001b[0m\n\u001b[1;32m      5\u001b[0m     \u001b[0murl2\u001b[0m \u001b[0;34m=\u001b[0m \u001b[0;34m'https://www.immobilienscout24.de/expose/'\u001b[0m\u001b[0;34m+\u001b[0m\u001b[0mstr\u001b[0m\u001b[0;34m(\u001b[0m\u001b[0mi\u001b[0m\u001b[0;34m)\u001b[0m\u001b[0;34m\u001b[0m\u001b[0m\n\u001b[0;32m----> 6\u001b[0;31m     \u001b[0mpage2\u001b[0m \u001b[0;34m=\u001b[0m \u001b[0murllib\u001b[0m\u001b[0;34m.\u001b[0m\u001b[0mrequest\u001b[0m\u001b[0;34m.\u001b[0m\u001b[0murlopen\u001b[0m\u001b[0;34m(\u001b[0m\u001b[0murl2\u001b[0m\u001b[0;34m)\u001b[0m\u001b[0;34m.\u001b[0m\u001b[0mread\u001b[0m\u001b[0;34m(\u001b[0m\u001b[0;34m)\u001b[0m\u001b[0;34m\u001b[0m\u001b[0m\n\u001b[0m\u001b[1;32m      7\u001b[0m     \u001b[0mtext2\u001b[0m \u001b[0;34m=\u001b[0m \u001b[0mpage2\u001b[0m\u001b[0;34m.\u001b[0m\u001b[0mdecode\u001b[0m\u001b[0;34m(\u001b[0m\u001b[0;34m'utf-8'\u001b[0m\u001b[0;34m)\u001b[0m\u001b[0;34m\u001b[0m\u001b[0m\n\u001b[1;32m      8\u001b[0m     \u001b[0;31m# using regex get all features\u001b[0m\u001b[0;34m\u001b[0m\u001b[0;34m\u001b[0m\u001b[0m\n",
      "\u001b[0;32m/Users/kim/anaconda/lib/python3.5/urllib/request.py\u001b[0m in \u001b[0;36murlopen\u001b[0;34m(url, data, timeout, cafile, capath, cadefault, context)\u001b[0m\n\u001b[1;32m    161\u001b[0m     \u001b[0;32melse\u001b[0m\u001b[0;34m:\u001b[0m\u001b[0;34m\u001b[0m\u001b[0m\n\u001b[1;32m    162\u001b[0m         \u001b[0mopener\u001b[0m \u001b[0;34m=\u001b[0m \u001b[0m_opener\u001b[0m\u001b[0;34m\u001b[0m\u001b[0m\n\u001b[0;32m--> 163\u001b[0;31m     \u001b[0;32mreturn\u001b[0m \u001b[0mopener\u001b[0m\u001b[0;34m.\u001b[0m\u001b[0mopen\u001b[0m\u001b[0;34m(\u001b[0m\u001b[0murl\u001b[0m\u001b[0;34m,\u001b[0m \u001b[0mdata\u001b[0m\u001b[0;34m,\u001b[0m \u001b[0mtimeout\u001b[0m\u001b[0;34m)\u001b[0m\u001b[0;34m\u001b[0m\u001b[0m\n\u001b[0m\u001b[1;32m    164\u001b[0m \u001b[0;34m\u001b[0m\u001b[0m\n\u001b[1;32m    165\u001b[0m \u001b[0;32mdef\u001b[0m \u001b[0minstall_opener\u001b[0m\u001b[0;34m(\u001b[0m\u001b[0mopener\u001b[0m\u001b[0;34m)\u001b[0m\u001b[0;34m:\u001b[0m\u001b[0;34m\u001b[0m\u001b[0m\n",
      "\u001b[0;32m/Users/kim/anaconda/lib/python3.5/urllib/request.py\u001b[0m in \u001b[0;36mopen\u001b[0;34m(self, fullurl, data, timeout)\u001b[0m\n\u001b[1;32m    464\u001b[0m             \u001b[0mreq\u001b[0m \u001b[0;34m=\u001b[0m \u001b[0mmeth\u001b[0m\u001b[0;34m(\u001b[0m\u001b[0mreq\u001b[0m\u001b[0;34m)\u001b[0m\u001b[0;34m\u001b[0m\u001b[0m\n\u001b[1;32m    465\u001b[0m \u001b[0;34m\u001b[0m\u001b[0m\n\u001b[0;32m--> 466\u001b[0;31m         \u001b[0mresponse\u001b[0m \u001b[0;34m=\u001b[0m \u001b[0mself\u001b[0m\u001b[0;34m.\u001b[0m\u001b[0m_open\u001b[0m\u001b[0;34m(\u001b[0m\u001b[0mreq\u001b[0m\u001b[0;34m,\u001b[0m \u001b[0mdata\u001b[0m\u001b[0;34m)\u001b[0m\u001b[0;34m\u001b[0m\u001b[0m\n\u001b[0m\u001b[1;32m    467\u001b[0m \u001b[0;34m\u001b[0m\u001b[0m\n\u001b[1;32m    468\u001b[0m         \u001b[0;31m# post-process response\u001b[0m\u001b[0;34m\u001b[0m\u001b[0;34m\u001b[0m\u001b[0m\n",
      "\u001b[0;32m/Users/kim/anaconda/lib/python3.5/urllib/request.py\u001b[0m in \u001b[0;36m_open\u001b[0;34m(self, req, data)\u001b[0m\n\u001b[1;32m    482\u001b[0m         \u001b[0mprotocol\u001b[0m \u001b[0;34m=\u001b[0m \u001b[0mreq\u001b[0m\u001b[0;34m.\u001b[0m\u001b[0mtype\u001b[0m\u001b[0;34m\u001b[0m\u001b[0m\n\u001b[1;32m    483\u001b[0m         result = self._call_chain(self.handle_open, protocol, protocol +\n\u001b[0;32m--> 484\u001b[0;31m                                   '_open', req)\n\u001b[0m\u001b[1;32m    485\u001b[0m         \u001b[0;32mif\u001b[0m \u001b[0mresult\u001b[0m\u001b[0;34m:\u001b[0m\u001b[0;34m\u001b[0m\u001b[0m\n\u001b[1;32m    486\u001b[0m             \u001b[0;32mreturn\u001b[0m \u001b[0mresult\u001b[0m\u001b[0;34m\u001b[0m\u001b[0m\n",
      "\u001b[0;32m/Users/kim/anaconda/lib/python3.5/urllib/request.py\u001b[0m in \u001b[0;36m_call_chain\u001b[0;34m(self, chain, kind, meth_name, *args)\u001b[0m\n\u001b[1;32m    442\u001b[0m         \u001b[0;32mfor\u001b[0m \u001b[0mhandler\u001b[0m \u001b[0;32min\u001b[0m \u001b[0mhandlers\u001b[0m\u001b[0;34m:\u001b[0m\u001b[0;34m\u001b[0m\u001b[0m\n\u001b[1;32m    443\u001b[0m             \u001b[0mfunc\u001b[0m \u001b[0;34m=\u001b[0m \u001b[0mgetattr\u001b[0m\u001b[0;34m(\u001b[0m\u001b[0mhandler\u001b[0m\u001b[0;34m,\u001b[0m \u001b[0mmeth_name\u001b[0m\u001b[0;34m)\u001b[0m\u001b[0;34m\u001b[0m\u001b[0m\n\u001b[0;32m--> 444\u001b[0;31m             \u001b[0mresult\u001b[0m \u001b[0;34m=\u001b[0m \u001b[0mfunc\u001b[0m\u001b[0;34m(\u001b[0m\u001b[0;34m*\u001b[0m\u001b[0margs\u001b[0m\u001b[0;34m)\u001b[0m\u001b[0;34m\u001b[0m\u001b[0m\n\u001b[0m\u001b[1;32m    445\u001b[0m             \u001b[0;32mif\u001b[0m \u001b[0mresult\u001b[0m \u001b[0;32mis\u001b[0m \u001b[0;32mnot\u001b[0m \u001b[0;32mNone\u001b[0m\u001b[0;34m:\u001b[0m\u001b[0;34m\u001b[0m\u001b[0m\n\u001b[1;32m    446\u001b[0m                 \u001b[0;32mreturn\u001b[0m \u001b[0mresult\u001b[0m\u001b[0;34m\u001b[0m\u001b[0m\n",
      "\u001b[0;32m/Users/kim/anaconda/lib/python3.5/urllib/request.py\u001b[0m in \u001b[0;36mhttps_open\u001b[0;34m(self, req)\u001b[0m\n\u001b[1;32m   1295\u001b[0m         \u001b[0;32mdef\u001b[0m \u001b[0mhttps_open\u001b[0m\u001b[0;34m(\u001b[0m\u001b[0mself\u001b[0m\u001b[0;34m,\u001b[0m \u001b[0mreq\u001b[0m\u001b[0;34m)\u001b[0m\u001b[0;34m:\u001b[0m\u001b[0;34m\u001b[0m\u001b[0m\n\u001b[1;32m   1296\u001b[0m             return self.do_open(http.client.HTTPSConnection, req,\n\u001b[0;32m-> 1297\u001b[0;31m                 context=self._context, check_hostname=self._check_hostname)\n\u001b[0m\u001b[1;32m   1298\u001b[0m \u001b[0;34m\u001b[0m\u001b[0m\n\u001b[1;32m   1299\u001b[0m         \u001b[0mhttps_request\u001b[0m \u001b[0;34m=\u001b[0m \u001b[0mAbstractHTTPHandler\u001b[0m\u001b[0;34m.\u001b[0m\u001b[0mdo_request_\u001b[0m\u001b[0;34m\u001b[0m\u001b[0m\n",
      "\u001b[0;32m/Users/kim/anaconda/lib/python3.5/urllib/request.py\u001b[0m in \u001b[0;36mdo_open\u001b[0;34m(self, http_class, req, **http_conn_args)\u001b[0m\n\u001b[1;32m   1252\u001b[0m         \u001b[0;32mtry\u001b[0m\u001b[0;34m:\u001b[0m\u001b[0;34m\u001b[0m\u001b[0m\n\u001b[1;32m   1253\u001b[0m             \u001b[0;32mtry\u001b[0m\u001b[0;34m:\u001b[0m\u001b[0;34m\u001b[0m\u001b[0m\n\u001b[0;32m-> 1254\u001b[0;31m                 \u001b[0mh\u001b[0m\u001b[0;34m.\u001b[0m\u001b[0mrequest\u001b[0m\u001b[0;34m(\u001b[0m\u001b[0mreq\u001b[0m\u001b[0;34m.\u001b[0m\u001b[0mget_method\u001b[0m\u001b[0;34m(\u001b[0m\u001b[0;34m)\u001b[0m\u001b[0;34m,\u001b[0m \u001b[0mreq\u001b[0m\u001b[0;34m.\u001b[0m\u001b[0mselector\u001b[0m\u001b[0;34m,\u001b[0m \u001b[0mreq\u001b[0m\u001b[0;34m.\u001b[0m\u001b[0mdata\u001b[0m\u001b[0;34m,\u001b[0m \u001b[0mheaders\u001b[0m\u001b[0;34m)\u001b[0m\u001b[0;34m\u001b[0m\u001b[0m\n\u001b[0m\u001b[1;32m   1255\u001b[0m             \u001b[0;32mexcept\u001b[0m \u001b[0mOSError\u001b[0m \u001b[0;32mas\u001b[0m \u001b[0merr\u001b[0m\u001b[0;34m:\u001b[0m \u001b[0;31m# timeout error\u001b[0m\u001b[0;34m\u001b[0m\u001b[0m\n\u001b[1;32m   1256\u001b[0m                 \u001b[0;32mraise\u001b[0m \u001b[0mURLError\u001b[0m\u001b[0;34m(\u001b[0m\u001b[0merr\u001b[0m\u001b[0;34m)\u001b[0m\u001b[0;34m\u001b[0m\u001b[0m\n",
      "\u001b[0;32m/Users/kim/anaconda/lib/python3.5/http/client.py\u001b[0m in \u001b[0;36mrequest\u001b[0;34m(self, method, url, body, headers)\u001b[0m\n\u001b[1;32m   1104\u001b[0m     \u001b[0;32mdef\u001b[0m \u001b[0mrequest\u001b[0m\u001b[0;34m(\u001b[0m\u001b[0mself\u001b[0m\u001b[0;34m,\u001b[0m \u001b[0mmethod\u001b[0m\u001b[0;34m,\u001b[0m \u001b[0murl\u001b[0m\u001b[0;34m,\u001b[0m \u001b[0mbody\u001b[0m\u001b[0;34m=\u001b[0m\u001b[0;32mNone\u001b[0m\u001b[0;34m,\u001b[0m \u001b[0mheaders\u001b[0m\u001b[0;34m=\u001b[0m\u001b[0;34m{\u001b[0m\u001b[0;34m}\u001b[0m\u001b[0;34m)\u001b[0m\u001b[0;34m:\u001b[0m\u001b[0;34m\u001b[0m\u001b[0m\n\u001b[1;32m   1105\u001b[0m         \u001b[0;34m\"\"\"Send a complete request to the server.\"\"\"\u001b[0m\u001b[0;34m\u001b[0m\u001b[0m\n\u001b[0;32m-> 1106\u001b[0;31m         \u001b[0mself\u001b[0m\u001b[0;34m.\u001b[0m\u001b[0m_send_request\u001b[0m\u001b[0;34m(\u001b[0m\u001b[0mmethod\u001b[0m\u001b[0;34m,\u001b[0m \u001b[0murl\u001b[0m\u001b[0;34m,\u001b[0m \u001b[0mbody\u001b[0m\u001b[0;34m,\u001b[0m \u001b[0mheaders\u001b[0m\u001b[0;34m)\u001b[0m\u001b[0;34m\u001b[0m\u001b[0m\n\u001b[0m\u001b[1;32m   1107\u001b[0m \u001b[0;34m\u001b[0m\u001b[0m\n\u001b[1;32m   1108\u001b[0m     \u001b[0;32mdef\u001b[0m \u001b[0m_set_content_length\u001b[0m\u001b[0;34m(\u001b[0m\u001b[0mself\u001b[0m\u001b[0;34m,\u001b[0m \u001b[0mbody\u001b[0m\u001b[0;34m,\u001b[0m \u001b[0mmethod\u001b[0m\u001b[0;34m)\u001b[0m\u001b[0;34m:\u001b[0m\u001b[0;34m\u001b[0m\u001b[0m\n",
      "\u001b[0;32m/Users/kim/anaconda/lib/python3.5/http/client.py\u001b[0m in \u001b[0;36m_send_request\u001b[0;34m(self, method, url, body, headers)\u001b[0m\n\u001b[1;32m   1139\u001b[0m             \u001b[0mskips\u001b[0m\u001b[0;34m[\u001b[0m\u001b[0;34m'skip_accept_encoding'\u001b[0m\u001b[0;34m]\u001b[0m \u001b[0;34m=\u001b[0m \u001b[0;36m1\u001b[0m\u001b[0;34m\u001b[0m\u001b[0m\n\u001b[1;32m   1140\u001b[0m \u001b[0;34m\u001b[0m\u001b[0m\n\u001b[0;32m-> 1141\u001b[0;31m         \u001b[0mself\u001b[0m\u001b[0;34m.\u001b[0m\u001b[0mputrequest\u001b[0m\u001b[0;34m(\u001b[0m\u001b[0mmethod\u001b[0m\u001b[0;34m,\u001b[0m \u001b[0murl\u001b[0m\u001b[0;34m,\u001b[0m \u001b[0;34m**\u001b[0m\u001b[0mskips\u001b[0m\u001b[0;34m)\u001b[0m\u001b[0;34m\u001b[0m\u001b[0m\n\u001b[0m\u001b[1;32m   1142\u001b[0m \u001b[0;34m\u001b[0m\u001b[0m\n\u001b[1;32m   1143\u001b[0m         \u001b[0;32mif\u001b[0m \u001b[0;34m'content-length'\u001b[0m \u001b[0;32mnot\u001b[0m \u001b[0;32min\u001b[0m \u001b[0mheader_names\u001b[0m\u001b[0;34m:\u001b[0m\u001b[0;34m\u001b[0m\u001b[0m\n",
      "\u001b[0;32m/Users/kim/anaconda/lib/python3.5/http/client.py\u001b[0m in \u001b[0;36mputrequest\u001b[0;34m(self, method, url, skip_host, skip_accept_encoding)\u001b[0m\n\u001b[1;32m    981\u001b[0m \u001b[0;34m\u001b[0m\u001b[0m\n\u001b[1;32m    982\u001b[0m         \u001b[0;31m# Non-ASCII characters should have been eliminated earlier\u001b[0m\u001b[0;34m\u001b[0m\u001b[0;34m\u001b[0m\u001b[0m\n\u001b[0;32m--> 983\u001b[0;31m         \u001b[0mself\u001b[0m\u001b[0;34m.\u001b[0m\u001b[0m_output\u001b[0m\u001b[0;34m(\u001b[0m\u001b[0mrequest\u001b[0m\u001b[0;34m.\u001b[0m\u001b[0mencode\u001b[0m\u001b[0;34m(\u001b[0m\u001b[0;34m'ascii'\u001b[0m\u001b[0;34m)\u001b[0m\u001b[0;34m)\u001b[0m\u001b[0;34m\u001b[0m\u001b[0m\n\u001b[0m\u001b[1;32m    984\u001b[0m \u001b[0;34m\u001b[0m\u001b[0m\n\u001b[1;32m    985\u001b[0m         \u001b[0;32mif\u001b[0m \u001b[0mself\u001b[0m\u001b[0;34m.\u001b[0m\u001b[0m_http_vsn\u001b[0m \u001b[0;34m==\u001b[0m \u001b[0;36m11\u001b[0m\u001b[0;34m:\u001b[0m\u001b[0;34m\u001b[0m\u001b[0m\n",
      "\u001b[0;31mUnicodeEncodeError\u001b[0m: 'ascii' codec can't encode character '\\xdf' in position 1808: ordinal not in range(128)"
     ]
    }
   ],
   "source": [
    "# make empty pandas data frame\n",
    "df = pd.DataFrame()\n",
    "\n",
    "for i in IDs:\n",
    "    url2 = 'https://www.immobilienscout24.de/expose/'+str(i)\n",
    "    page2 = urllib.request.urlopen(url2).read()\n",
    "    text2 = page2.decode('utf-8')\n",
    "    # using regex get all features\n",
    "    ScoutID = str(i)\n",
    "    Ort = re.findall(r'\"zip-region-and-country\">\\s(.*?)</span>', text2)\n",
    "    if Ort: Ort = Ort[0] \n",
    "    else : Ort = \"\"\n",
    "    Haustyp = re.findall(r'\"is24qa-haustyp grid-item three-fifths\">\\s(.*?)\\s</dd>', text2)\n",
    "    if Haustyp: Haustyp = Haustyp[0] \n",
    "    else : Haustyp = \"\"\n",
    "    Etagenzahl = re.findall(r'\"is24qa-etagenanzahl grid-item three-fifths\">\\s([0-9])\\s</dd>', text2)\n",
    "    if Etagenzahl: Etagenzahl = Etagenzahl[0] \n",
    "    else : Etagenzahl = \"\"\n",
    "    Wohnflaeche = re.findall(r'\"is24qa-wohnflaeche-ca grid-item three-fifths\">\\s(.*?)\\sm²\\s</dd>', text2)\n",
    "    if Wohnflaeche: Wohnflaeche = Wohnflaeche[0] \n",
    "    else : Wohnflaeche = \"\"\n",
    "    Nutzflaeche = re.findall(r'\"is24qa-nutzflaeche-ca grid-item three-fifths\">\\s(.*?)\\sm²\\s</dd>', text2)\n",
    "    if Nutzflaeche: Nutzflaeche = Nutzflaeche[0] \n",
    "    else : Nutzflaeche = \"\"\n",
    "    Grundstuecksflaeche = re.findall(r'\"is24qa-grundstuecksflaeche-ca grid-item three-fifths\">\\s((.*?))\\sm²\\s</dd>', text2)\n",
    "    if Grundstuecksflaeche: Grundstuecksflaeche = Grundstuecksflaeche[0] \n",
    "    else : Grundstuecksflaeche = \"\"\n",
    "    Zimmer = re.findall(r'\"is24qa-zimmer grid-item three-fifths\">\\s(.*?)\\s</dd>', text2)\n",
    "    if Zimmer: Zimmer = Zimmer[0] \n",
    "    else : Zimmer = \"\"\n",
    "    Schlafzimmer = re.findall(r'\"is24qa-schlafzimmer grid-item three-fifths\">\\s(.*?)\\s</dd>', text2)\n",
    "    if Schlafzimmer: Schlafzimmer = Schlafzimmer[0] \n",
    "    else : Schlafzimmer = \"\"\n",
    "    Badezimmer = re.findall(r'\"is24qa-badezimmer grid-item three-fifths\">\\s(.*?)\\s</dd>', text2)\n",
    "    if Badezimmer: Badezimmer = Badezimmer[0] \n",
    "    else : Badezimmer = \"\"\n",
    "    Garage = re.findall(r'\"is24qa-garage-stellplatz grid-item three-fifths\">\\s(.*?)\\s</dd>', text2)\n",
    "    if Garage: Garage = Garage[0] \n",
    "    else : Garage = \"\"\n",
    "    numGarage = re.findall(r'\"is24qa-anzahl-garage-stellplatz grid-item three-fifths\">\\s(.*?)\\s</dd>', text2)\n",
    "    if numGarage: numGarage = numGarage[0] \n",
    "    else : numGarage = \"\"\n",
    "    Kaufpreis = re.findall(r'\"is24qa-kaufpreis grid-item three-fifths\">\\s(.*?)\\s€\\s</dd>', text2)\n",
    "    if Kaufpreis: Kaufpreis = Kaufpreis[0] \n",
    "    else : Kaufpreis = \"\"\n",
    "    Baujahr = re.findall(r'\"is24qa-baujahr grid-item three-fifths\">(.*?)</dd>', text2)\n",
    "    if Baujahr: Baujahr = Baujahr[0] \n",
    "    else : Baujahr = \"\"\n",
    "    Bauphase = re.findall(r'\"is24qa-bauphase grid-item three-fifths\">\\s(.*?)\\s</dd>', text2)\n",
    "    if Bauphase: Bauphase = Bauphase[0] \n",
    "    else : Bauphase = \"\"\n",
    "    Sanierung = re.findall(r'\"is24qa-letzte-modernisierung-sanierung grid-item three-fifths\">\\s(.*?)\\s</dd>', text2)\n",
    "    if Sanierung: Sanierung = Sanierung[0] \n",
    "    else : Sanierung = \"\"\n",
    "    Objektzustand = re.findall(r'\"is24qa-objektzustand grid-item three-fifths\">\\s(.*?)\\s</dd>', text2)\n",
    "    if Objektzustand: Objektzustand = Objektzustand[0] \n",
    "    else : Objektzustand = \"\"\n",
    "    Ausstattung = re.findall(r'\"is24qa-qualitaet-der-ausstattung grid-item three-fifths\">\\s(.*?)\\s</dd>', text2)\n",
    "    if Ausstattung: Ausstattung = Ausstattung[0] \n",
    "    else : Ausstattung = \"\"\n",
    "    Heizungsart = re.findall(r'\"is24qa-heizungsart grid-item three-fifths\">\\s(.*?)\\s</dd>', text2)\n",
    "    if Heizungsart: Heizungsart = Heizungsart[0] \n",
    "    else : Heizungsart = \"\"\n",
    "    Energietraeger = re.findall(r'\"is24qa-wesentliche-energietraeger grid-item three-fifths\">\\s(.*?)\\s</dd>', text2)\n",
    "    if Energietraeger: Energietraeger = Energietraeger[0] \n",
    "    else : Energietraeger = \"\"\n",
    "    Energieausweis = re.findall(r'\"is24qa-energieausweis grid-item three-fifths\">\\s(.*?)\\s</dd>', text2)\n",
    "    if Energieausweis: Energieausweis = Energieausweis[0] \n",
    "    else : Energieausweis = \"\"\n",
    "    Energieausweistyp = re.findall(r'\"is24qa-energieausweistyp grid-item three-fifths\">\\s(.*?)\\s</dd>', text2)\n",
    "    if Energieausweistyp: Energieausweistyp = Energieausweistyp[0] \n",
    "    else : Energieausweistyp = \"\"\n",
    "    Enenergiebedarf = re.findall(r'\"is24qa-endenergiebedarf grid-item three-fifths\">\\s(.*?)\\skWh/', text2)\n",
    "    if Enenergiebedarf: Enenergiebedarf = Enenergiebedarf[0] \n",
    "    else : Enenergiebedarf = \"\"\n",
    "    Energieeffizienzklasse = re.findall(r'\"is24qa-energieeffizienzklasse grid-item three-fifths\">\\s(.*?)\\s</dd>', text2)\n",
    "    if Energieeffizienzklasse: Energieeffizienzklasse = Energieeffizienzklasse[0] \n",
    "    else : Energieeffizienzklasse = \"\"\n",
    "            \n",
    "    df = df.append(\n",
    "        {'ScoutID' : ScoutID,\n",
    "        'Ort': str(Ort), \n",
    "         'Haustyp': str(Haustyp),\n",
    "         'Etagenzahl': str(Etagenzahl),\n",
    "         'Wohnflaeche' : str(Wohnflaeche),\n",
    "         'Nutzflaeche' : str(Nutzflaeche),\n",
    "         'Grundstuecksflaeche' : str(Grundstuecksflaeche[0]),\n",
    "         'Zimmer' : str(Zimmer),\n",
    "         'Schlafzimmer' : str(Schlafzimmer),\n",
    "         'Badezimmer' : str(Badezimmer),\n",
    "         'Garage' : str(Garage),\n",
    "         'numGarage' : str(numGarage),\n",
    "         'Kaufpreis' : str(Kaufpreis),\n",
    "         'Baujahr' : str(Baujahr),\n",
    "         'Sanierung' : str(Sanierung),\n",
    "         'Objektzustand': str(Objektzustand),\n",
    "         'Ausstattung' : str(Ausstattung),\n",
    "         'Heizungsart' : str(Heizungsart),\n",
    "         'Energietraeger' : str(Energietraeger),\n",
    "         'Energieausweis' : str(Energieausweis),\n",
    "         'Energieausweistyp' : str(Energieausweistyp),\n",
    "         'Enenergiebedarf' : str(Enenergiebedarf),\n",
    "         'Energieeffizienzklasse' : str(Energieeffizienzklasse)\n",
    "        }, ignore_index=True)"
   ]
  },
  {
   "cell_type": "markdown",
   "metadata": {},
   "source": [
    "Modify columns accordingly\n",
    "remove \".\" and \",\"\n",
    "Replace all Umlaut in dictionary"
   ]
  },
  {
   "cell_type": "code",
   "execution_count": 144,
   "metadata": {},
   "outputs": [],
   "source": [
    "myDict = {'ö':'oe',\n",
    "          'Ö':'Oe',\n",
    "          'ä':'ae', \n",
    "          'ü':'ue',\n",
    "          '\\.':'', \n",
    "          r',':'.',\n",
    "         'ß':'ss'}\n"
   ]
  },
  {
   "cell_type": "code",
   "execution_count": 214,
   "metadata": {
    "collapsed": true
   },
   "outputs": [],
   "source": [
    "df2 = df.replace(myDict, regex = True)"
   ]
  },
  {
   "cell_type": "markdown",
   "metadata": {},
   "source": [
    "Extract Zip from Ort using pandas str.split (if no arg, space by default). This returns a list.\n",
    "str.split.str[0] get 0th element of the list \n",
    "Transfrom straight into category using .astype('category')"
   ]
  },
  {
   "cell_type": "code",
   "execution_count": null,
   "metadata": {
    "collapsed": true
   },
   "outputs": [],
   "source": [
    "df2['Zip'] = df2.Ort.str.split().str[0].astype('category')"
   ]
  },
  {
   "cell_type": "code",
   "execution_count": null,
   "metadata": {
    "collapsed": true
   },
   "outputs": [],
   "source": [
    "df2.to_csv('170212.txt', sep='\\t', index=False)"
   ]
  },
  {
   "cell_type": "markdown",
   "metadata": {},
   "source": [
    "Clean/prepare the data frame:\n",
    "Inconsistencies in series e.g. Baujahr \"unbekannt\" = \"\"\n",
    "Transform sting series into categorica and numbers to numeric\n",
    "Fill blanks with NaN?"
   ]
  },
  {
   "cell_type": "code",
   "execution_count": 48,
   "metadata": {
    "collapsed": true
   },
   "outputs": [],
   "source": [
    "df2 = pd.read_csv('170212.txt', sep='\\t', index_col=None)"
   ]
  },
  {
   "cell_type": "markdown",
   "metadata": {},
   "source": [
    "Inconsistencies: only Baujahr"
   ]
  },
  {
   "cell_type": "code",
   "execution_count": 49,
   "metadata": {},
   "outputs": [],
   "source": [
    "df2.Baujahr = df2.Baujahr.str.replace('unbekannt', '') # replace unbekannt by \"\""
   ]
  },
  {
   "cell_type": "markdown",
   "metadata": {},
   "source": [
    "Transfrom string number into integers or floats?"
   ]
  },
  {
   "cell_type": "code",
   "execution_count": 50,
   "metadata": {},
   "outputs": [],
   "source": [
    "# use apply to perform to_numeric to all columns.\n",
    "# use errors = 'ignore' to return input if to_numeric cannot be performed e.g. character strings!\n",
    "df2 = df2.apply(pd.to_numeric, errors='ignore')"
   ]
  },
  {
   "cell_type": "markdown",
   "metadata": {},
   "source": [
    "Create new series:\n",
    "\"Alter\" = age of the house = 2017 - Baujahr\n",
    "\"RenovAlter\"= age since renovation = 2017 - Sanierung"
   ]
  },
  {
   "cell_type": "code",
   "execution_count": 51,
   "metadata": {},
   "outputs": [],
   "source": [
    "df2['Alter'] = 2017 - df2.Baujahr\n",
    "df2['RenovAlter'] = 2017 - df2.Sanierung"
   ]
  },
  {
   "cell_type": "markdown",
   "metadata": {},
   "source": [
    "Transform string series into category"
   ]
  },
  {
   "cell_type": "code",
   "execution_count": 52,
   "metadata": {},
   "outputs": [],
   "source": [
    "columns = ['Ausstattung',\n",
    "           'Energieausweis', \n",
    "           'Energieausweistyp',\n",
    "           'Energieeffizienzklasse',\n",
    "           'Energietraeger',\n",
    "           'Garage',\n",
    "           'Haustyp',\n",
    "           'Heizungsart',\n",
    "           'Objektzustand',\n",
    "           'Ort',\n",
    "           'ScoutID',\n",
    "           'Zip']\n",
    "\n",
    "for col in columns:\n",
    "    df2[col] = df2[col].astype('category')\n"
   ]
  },
  {
   "cell_type": "code",
   "execution_count": 53,
   "metadata": {},
   "outputs": [
    {
     "data": {
      "text/plain": [
       "category"
      ]
     },
     "execution_count": 53,
     "metadata": {},
     "output_type": "execute_result"
    }
   ],
   "source": [
    "df2.Haustyp.dtype # to check serie type"
   ]
  },
  {
   "cell_type": "code",
   "execution_count": 54,
   "metadata": {
    "collapsed": true
   },
   "outputs": [],
   "source": [
    "df2.rename(columns={'Enenergiebedarf':'Energiebedarf'}, inplace = True) # fix typos in column name"
   ]
  },
  {
   "cell_type": "markdown",
   "metadata": {},
   "source": [
    "Drop useless columns ['Energieausweis','Energieausweistyp','Ort','ScoutID']"
   ]
  },
  {
   "cell_type": "code",
   "execution_count": 55,
   "metadata": {},
   "outputs": [],
   "source": [
    "df2.drop(['Energieausweis','Energieausweistyp','Ort','ScoutID'], axis=1, inplace= True)"
   ]
  },
  {
   "cell_type": "markdown",
   "metadata": {},
   "source": [
    "Prepare the dataframe for muliple regression:\n",
    "1) deal with categorical variables (OneHotEncode or label encoder)\n",
    "2) deal with missing values - Inplace"
   ]
  },
  {
   "cell_type": "code",
   "execution_count": 56,
   "metadata": {
    "collapsed": true
   },
   "outputs": [],
   "source": [
    "df3 = df2 # not to screw up the original df"
   ]
  },
  {
   "cell_type": "markdown",
   "metadata": {},
   "source": [
    "Use LabelEnocder to creat dummy variables"
   ]
  },
  {
   "cell_type": "code",
   "execution_count": 57,
   "metadata": {},
   "outputs": [],
   "source": [
    "from sklearn.preprocessing import LabelEncoder\n",
    "\n",
    "columnsToEncode = list(df3.select_dtypes(include=['category', 'object']))# select columns for which dummy variables are needed\n",
    "le = LabelEncoder()\n",
    "for feature in columnsToEncode:\n",
    "    df3[feature] = df3[feature].replace(np.nan,'', regex=True) # relace NaN with empty string\n",
    "    try:\n",
    "        df3[feature] = le.fit_transform(df3[feature]) # fit le and transform in one call\n",
    "    except:\n",
    "        print('Error encoding '+feature)"
   ]
  },
  {
   "cell_type": "markdown",
   "metadata": {},
   "source": [
    "Impute "
   ]
  },
  {
   "cell_type": "code",
   "execution_count": 76,
   "metadata": {},
   "outputs": [],
   "source": [
    "from sklearn.preprocessing import Imputer\n",
    "imp = Imputer(missing_values='NaN', strategy='mean', axis=1)\n",
    "df3 = imp.fit_transform(df3) ## not working"
   ]
  },
  {
   "cell_type": "code",
   "execution_count": 79,
   "metadata": {},
   "outputs": [],
   "source": [
    "df3 = pd.DataFrame(df3)"
   ]
  },
  {
   "cell_type": "code",
   "execution_count": 80,
   "metadata": {},
   "outputs": [
    {
     "data": {
      "text/html": [
       "<div>\n",
       "<table border=\"1\" class=\"dataframe\">\n",
       "  <thead>\n",
       "    <tr style=\"text-align: right;\">\n",
       "      <th></th>\n",
       "      <th>0</th>\n",
       "      <th>1</th>\n",
       "      <th>2</th>\n",
       "      <th>3</th>\n",
       "      <th>4</th>\n",
       "      <th>5</th>\n",
       "      <th>6</th>\n",
       "      <th>7</th>\n",
       "      <th>8</th>\n",
       "      <th>9</th>\n",
       "      <th>...</th>\n",
       "      <th>12</th>\n",
       "      <th>13</th>\n",
       "      <th>14</th>\n",
       "      <th>15</th>\n",
       "      <th>16</th>\n",
       "      <th>17</th>\n",
       "      <th>18</th>\n",
       "      <th>19</th>\n",
       "      <th>20</th>\n",
       "      <th>21</th>\n",
       "    </tr>\n",
       "  </thead>\n",
       "  <tbody>\n",
       "    <tr>\n",
       "      <th>0</th>\n",
       "      <td>0.0</td>\n",
       "      <td>20051.666667</td>\n",
       "      <td>20051.666667</td>\n",
       "      <td>20051.666667</td>\n",
       "      <td>0.0</td>\n",
       "      <td>0.0</td>\n",
       "      <td>20051.666667</td>\n",
       "      <td>0.0</td>\n",
       "      <td>430.0</td>\n",
       "      <td>5.0</td>\n",
       "      <td>...</td>\n",
       "      <td>20051.666667</td>\n",
       "      <td>0.0</td>\n",
       "      <td>20051.666667</td>\n",
       "      <td>20051.666667</td>\n",
       "      <td>120.00</td>\n",
       "      <td>5.0</td>\n",
       "      <td>20051.666667</td>\n",
       "      <td>60.0</td>\n",
       "      <td>20051.666667</td>\n",
       "      <td>20051.666667</td>\n",
       "    </tr>\n",
       "    <tr>\n",
       "      <th>1</th>\n",
       "      <td>0.0</td>\n",
       "      <td>21311.916667</td>\n",
       "      <td>21311.916667</td>\n",
       "      <td>21311.916667</td>\n",
       "      <td>0.0</td>\n",
       "      <td>0.0</td>\n",
       "      <td>21311.916667</td>\n",
       "      <td>0.0</td>\n",
       "      <td>500.0</td>\n",
       "      <td>5.0</td>\n",
       "      <td>...</td>\n",
       "      <td>21311.916667</td>\n",
       "      <td>0.0</td>\n",
       "      <td>21311.916667</td>\n",
       "      <td>21311.916667</td>\n",
       "      <td>142.00</td>\n",
       "      <td>4.0</td>\n",
       "      <td>21311.916667</td>\n",
       "      <td>87.0</td>\n",
       "      <td>21311.916667</td>\n",
       "      <td>21311.916667</td>\n",
       "    </tr>\n",
       "    <tr>\n",
       "      <th>2</th>\n",
       "      <td>4.0</td>\n",
       "      <td>2.000000</td>\n",
       "      <td>1970.000000</td>\n",
       "      <td>13173.300000</td>\n",
       "      <td>0.0</td>\n",
       "      <td>6.0</td>\n",
       "      <td>2.000000</td>\n",
       "      <td>4.0</td>\n",
       "      <td>225.0</td>\n",
       "      <td>3.0</td>\n",
       "      <td>...</td>\n",
       "      <td>13173.300000</td>\n",
       "      <td>9.0</td>\n",
       "      <td>2011.000000</td>\n",
       "      <td>3.000000</td>\n",
       "      <td>145.00</td>\n",
       "      <td>5.0</td>\n",
       "      <td>1.000000</td>\n",
       "      <td>10.0</td>\n",
       "      <td>47.000000</td>\n",
       "      <td>6.000000</td>\n",
       "    </tr>\n",
       "    <tr>\n",
       "      <th>3</th>\n",
       "      <td>1.0</td>\n",
       "      <td>2.000000</td>\n",
       "      <td>1967.000000</td>\n",
       "      <td>11892.996842</td>\n",
       "      <td>0.0</td>\n",
       "      <td>17.0</td>\n",
       "      <td>1.000000</td>\n",
       "      <td>4.0</td>\n",
       "      <td>237.0</td>\n",
       "      <td>8.0</td>\n",
       "      <td>...</td>\n",
       "      <td>37.120000</td>\n",
       "      <td>7.0</td>\n",
       "      <td>11892.996842</td>\n",
       "      <td>4.000000</td>\n",
       "      <td>166.32</td>\n",
       "      <td>6.5</td>\n",
       "      <td>1.000000</td>\n",
       "      <td>50.0</td>\n",
       "      <td>50.000000</td>\n",
       "      <td>11892.996842</td>\n",
       "    </tr>\n",
       "    <tr>\n",
       "      <th>4</th>\n",
       "      <td>2.0</td>\n",
       "      <td>1.000000</td>\n",
       "      <td>17898.266667</td>\n",
       "      <td>17898.266667</td>\n",
       "      <td>0.0</td>\n",
       "      <td>0.0</td>\n",
       "      <td>2.000000</td>\n",
       "      <td>0.0</td>\n",
       "      <td>510.0</td>\n",
       "      <td>5.0</td>\n",
       "      <td>...</td>\n",
       "      <td>17898.266667</td>\n",
       "      <td>0.0</td>\n",
       "      <td>17898.266667</td>\n",
       "      <td>3.000000</td>\n",
       "      <td>122.00</td>\n",
       "      <td>5.0</td>\n",
       "      <td>17898.266667</td>\n",
       "      <td>88.0</td>\n",
       "      <td>17898.266667</td>\n",
       "      <td>17898.266667</td>\n",
       "    </tr>\n",
       "  </tbody>\n",
       "</table>\n",
       "<p>5 rows × 22 columns</p>\n",
       "</div>"
      ],
      "text/plain": [
       "    0             1             2             3    4     5             6   \\\n",
       "0  0.0  20051.666667  20051.666667  20051.666667  0.0   0.0  20051.666667   \n",
       "1  0.0  21311.916667  21311.916667  21311.916667  0.0   0.0  21311.916667   \n",
       "2  4.0      2.000000   1970.000000  13173.300000  0.0   6.0      2.000000   \n",
       "3  1.0      2.000000   1967.000000  11892.996842  0.0  17.0      1.000000   \n",
       "4  2.0      1.000000  17898.266667  17898.266667  0.0   0.0      2.000000   \n",
       "\n",
       "    7      8    9       ...                 12   13            14  \\\n",
       "0  0.0  430.0  5.0      ...       20051.666667  0.0  20051.666667   \n",
       "1  0.0  500.0  5.0      ...       21311.916667  0.0  21311.916667   \n",
       "2  4.0  225.0  3.0      ...       13173.300000  9.0   2011.000000   \n",
       "3  4.0  237.0  8.0      ...          37.120000  7.0  11892.996842   \n",
       "4  0.0  510.0  5.0      ...       17898.266667  0.0  17898.266667   \n",
       "\n",
       "             15      16   17            18    19            20            21  \n",
       "0  20051.666667  120.00  5.0  20051.666667  60.0  20051.666667  20051.666667  \n",
       "1  21311.916667  142.00  4.0  21311.916667  87.0  21311.916667  21311.916667  \n",
       "2      3.000000  145.00  5.0      1.000000  10.0     47.000000      6.000000  \n",
       "3      4.000000  166.32  6.5      1.000000  50.0     50.000000  11892.996842  \n",
       "4      3.000000  122.00  5.0  17898.266667  88.0  17898.266667  17898.266667  \n",
       "\n",
       "[5 rows x 22 columns]"
      ]
     },
     "execution_count": 80,
     "metadata": {},
     "output_type": "execute_result"
    }
   ],
   "source": [
    "df3.head()"
   ]
  },
  {
   "cell_type": "code",
   "execution_count": null,
   "metadata": {
    "collapsed": true
   },
   "outputs": [],
   "source": []
  },
  {
   "cell_type": "code",
   "execution_count": null,
   "metadata": {
    "collapsed": true
   },
   "outputs": [],
   "source": []
  },
  {
   "cell_type": "code",
   "execution_count": 67,
   "metadata": {},
   "outputs": [
    {
     "data": {
      "text/plain": [
       "Ausstattung                 0\n",
       "Badezimmer                236\n",
       "Baujahr                   316\n",
       "Energiebedarf             734\n",
       "Energieeffizienzklasse      0\n",
       "Energietraeger              0\n",
       "Etagenzahl                367\n",
       "Garage                      0\n",
       "Grundstuecksflaeche         0\n",
       "Haustyp                     0\n",
       "Heizungsart                 0\n",
       "Kaufpreis                   0\n",
       "Nutzflaeche               653\n",
       "Objektzustand               0\n",
       "Sanierung                 792\n",
       "Schlafzimmer              297\n",
       "Wohnflaeche                 0\n",
       "Zimmer                      0\n",
       "numGarage                 498\n",
       "Zip                         0\n",
       "Alter                     316\n",
       "RenovAlter                792\n",
       "dtype: int64"
      ]
     },
     "execution_count": 67,
     "metadata": {},
     "output_type": "execute_result"
    }
   ],
   "source": [
    "df3.isnull().sum()"
   ]
  },
  {
   "cell_type": "code",
   "execution_count": 44,
   "metadata": {},
   "outputs": [
    {
     "data": {
      "text/plain": [
       "dtype('float64')"
      ]
     },
     "execution_count": 44,
     "metadata": {},
     "output_type": "execute_result"
    }
   ],
   "source": [
    "df3.Zimmer.dtype"
   ]
  },
  {
   "cell_type": "code",
   "execution_count": 71,
   "metadata": {},
   "outputs": [
    {
     "data": {
      "text/plain": [
       "0    423\n",
       "2    369\n",
       "4    133\n",
       "3     26\n",
       "1     20\n",
       "Name: Ausstattung, dtype: int64"
      ]
     },
     "execution_count": 71,
     "metadata": {},
     "output_type": "execute_result"
    }
   ],
   "source": [
    "df3.Ausstattung.value_counts()"
   ]
  },
  {
   "cell_type": "code",
   "execution_count": 5,
   "metadata": {},
   "outputs": [],
   "source": [
    "df2.to_csv('170218.txt', sep='\\t', index=False)"
   ]
  },
  {
   "cell_type": "markdown",
   "metadata": {},
   "source": [
    "Open file using read_csv from pandas"
   ]
  },
  {
   "cell_type": "code",
   "execution_count": 3,
   "metadata": {
    "collapsed": true
   },
   "outputs": [],
   "source": [
    "df2 = pd.read_csv('170212.txt', sep='\\t', index_col=None)"
   ]
  },
  {
   "cell_type": "code",
   "execution_count": 31,
   "metadata": {},
   "outputs": [],
   "source": [
    "df2['Euros/m2 Wohn'] = df2.Kaufpreis/df2['Wohnflaeche'] "
   ]
  },
  {
   "cell_type": "code",
   "execution_count": null,
   "metadata": {
    "collapsed": true
   },
   "outputs": [],
   "source": [
    "Plot categorical variables using seaborn"
   ]
  },
  {
   "cell_type": "code",
   "execution_count": 32,
   "metadata": {},
   "outputs": [
    {
     "data": {
      "image/png": "[encoded data removed]",
      "text/plain": [
       "<matplotlib.figure.Figure at 0x115e1eeb8>"
      ]
     },
     "metadata": {},
     "output_type": "display_data"
    }
   ],
   "source": [
    "import matplotlib as plt\n",
    "import seaborn as sns\n",
    "sns.set(style=\"whitegrid\", color_codes=True)\n",
    "myplot = sns.stripplot(x=df2.Zip, y=df2['Euros/m2 Wohn'], data=df2, jitter = True)\n",
    "# change x label size\n",
    "# show plot\n",
    "myplot.set_xticklabels(df2.Zip, rotation=90, size=6)\n",
    "sns.plt.show(myplot)\n",
    "# make figure\n",
    "fig = myplot.get_figure()\n",
    "# save figure\n",
    "fig.savefig(\"Zip_Price_per_liv_sqm.png\", dpi = 300)"
   ]
  },
  {
   "cell_type": "code",
   "execution_count": 18,
   "metadata": {},
   "outputs": [],
   "source": []
  },
  {
   "cell_type": "code",
   "execution_count": 70,
   "metadata": {
    "collapsed": true
   },
   "outputs": [],
   "source": [
    "df.to_csv('170211.txt', sep='\\t', index=False)"
   ]
  }
 ],
 "metadata": {
  "anaconda-cloud": {},
  "kernelspec": {
   "display_name": "Python 3",
   "language": "python",
   "name": "python3"
  },
  "language_info": {
   "codemirror_mode": {
    "name": "ipython",
    "version": 3
   },
   "file_extension": ".py",
   "mimetype": "text/x-python",
   "name": "python",
   "nbconvert_exporter": "python",
   "pygments_lexer": "ipython3",
   "version": "3.6.1"
  }
 },
 "nbformat": 4,
 "nbformat_minor": 1
}
